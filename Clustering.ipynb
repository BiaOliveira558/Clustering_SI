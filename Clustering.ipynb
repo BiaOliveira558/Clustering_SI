{
  "nbformat": 4,
  "nbformat_minor": 0,
  "metadata": {
    "colab": {
      "provenance": [],
      "gpuType": "T4",
      "include_colab_link": true
    },
    "kernelspec": {
      "name": "python3",
      "display_name": "Python 3"
    },
    "language_info": {
      "name": "python"
    },
    "accelerator": "GPU"
  },
  "cells": [
    {
      "cell_type": "markdown",
      "metadata": {
        "id": "view-in-github",
        "colab_type": "text"
      },
      "source": [
        "<a href=\"https://colab.research.google.com/github/BiaOliveira558/Clustering_SI/blob/main/Clustering.ipynb\" target=\"_parent\"><img src=\"https://colab.research.google.com/assets/colab-badge.svg\" alt=\"Open In Colab\"/></a>"
      ]
    },
    {
      "cell_type": "code",
      "execution_count": null,
      "metadata": {
        "colab": {
          "base_uri": "https://localhost:8080/"
        },
        "id": "ob8gG3WAnO-x",
        "outputId": "7ac2414b-3884-4478-f157-b20b54b85193"
      },
      "outputs": [
        {
          "output_type": "stream",
          "name": "stdout",
          "text": [
            "Collecting ucimlrepo\n",
            "  Downloading ucimlrepo-0.0.3-py3-none-any.whl (7.0 kB)\n",
            "Installing collected packages: ucimlrepo\n",
            "Successfully installed ucimlrepo-0.0.3\n"
          ]
        }
      ],
      "source": [
        "!pip3 install -U ucimlrepo\n"
      ]
    },
    {
      "cell_type": "code",
      "source": [
        "from ucimlrepo import fetch_ucirepo\n",
        "import numpy as np"
      ],
      "metadata": {
        "id": "DdMOKZthntDp"
      },
      "execution_count": null,
      "outputs": []
    },
    {
      "cell_type": "code",
      "source": [
        "hepatitis = fetch_ucirepo(id=571)\n",
        "\n",
        "df = hepatitis.data.original\n",
        "\n",
        "x_train = df.drop('Category', axis=1)\n",
        "\n"
      ],
      "metadata": {
        "id": "JRja2bibnYL6"
      },
      "execution_count": null,
      "outputs": []
    },
    {
      "cell_type": "code",
      "source": [
        "def distance_between(point, set):\n",
        "  distance = np.sqrt(np.sum((point - set)**2), axis=1)"
      ],
      "metadata": {
        "id": "_AUEDudmnfuZ"
      },
      "execution_count": null,
      "outputs": []
    },
    {
      "cell_type": "code",
      "source": [
        "def kmeans_algorithm(n_clusters, x_train, max_iterations=300, tol=1e-4):\n",
        "    x_min, x_max = np.min(x_train, axis=0), np.max(x_train, axis=0)\n",
        "    centroids = [np.random.uniform(x_min, x_max) for _ in range(n_clusters)]\n",
        "\n",
        "    iteration = 0\n",
        "    while iteration < max_iterations:\n",
        "        clusters = [[] for _ in range(n_clusters)]\n",
        "\n",
        "        # Atribui cada ponto ao centroide mais próximo\n",
        "        for x in x_train:\n",
        "            distances = distance_between(x, centroids)\n",
        "            min_distance_index = np.argmin(distances)\n",
        "            clusters[min_distance_index].append(x)\n",
        "\n",
        "        # Atualiza os centroides para a média dos pontos atribuídos a eles\n",
        "        new_centroids = [np.mean(cluster, axis=0) if cluster else centroids[i] for i, cluster in enumerate(clusters)]\n",
        "\n",
        "        # Verifica convergência\n",
        "        if np.linalg.norm(np.array(centroids) - np.array(new_centroids)) < tol:\n",
        "            break\n",
        "\n",
        "        centroids = new_centroids\n",
        "        iteration += 1\n",
        "\n",
        "    return centroids, clusters\n"
      ],
      "metadata": {
        "id": "2tnRlgERolkq"
      },
      "execution_count": null,
      "outputs": []
    },
    {
      "cell_type": "code",
      "source": [
        "def evaluation(centroids, x_train):\n",
        "  store_centroids = []\n",
        "  indexes = []\n",
        "\n",
        "  for x in x_train:\n",
        "    distances = distance_between(x, centroids)\n",
        "    min_distance = np.argmin(distances)\n",
        "    store_centroids.append(centroids[min_distance])\n",
        "    indexes.append(min_distance)\n",
        "\n",
        "  return store_centroids, indexes"
      ],
      "metadata": {
        "id": "dLBiErPjupkr"
      },
      "execution_count": null,
      "outputs": []
    },
    {
      "cell_type": "code",
      "source": [
        "kmeans = kmeans_algorithm(3, x_train)\n"
      ],
      "metadata": {
        "id": "5bQrxqCOvlfD"
      },
      "execution_count": null,
      "outputs": []
    }
  ]
}